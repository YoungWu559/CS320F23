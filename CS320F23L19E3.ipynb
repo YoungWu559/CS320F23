{
 "cells": [
  {
   "cell_type": "code",
   "execution_count": 1,
   "id": "4f2c9d4a-9d3b-4268-9212-011681209323",
   "metadata": {},
   "outputs": [],
   "source": [
    "# Code attribution: Yiyin Shen, Tyler Caraza-Harter\n",
    "# Imports\n",
    "from selenium import webdriver\n",
    "from selenium.webdriver.chrome.service import Service\n",
    "import time"
   ]
  },
  {
   "cell_type": "code",
   "execution_count": 2,
   "id": "57c51a62-ca1b-49f6-b04d-2187f797f814",
   "metadata": {},
   "outputs": [],
   "source": [
    "# Get the checkboxes, button, and output field\n",
    "service = Service(executable_path=\"chromedriver-win64/chromedriver.exe\")\n",
    "driver = webdriver.Chrome(service=service)\n",
    "url = \"https://pages.cs.wisc.edu/~yw/CS320F23T19.html\"\n",
    "driver.get(url)\n",
    "checkbox = driver.find_elements(\"tag name\", \"input\")[1:7]\n",
    "button = driver.find_elements(\"tag name\", \"button\")[1]\n",
    "field = driver.find_element(\"id\", \"out_2\")\n",
    "answers = [\"A\", \"B\", \"C\", \"D\", \"E\", \"F\"]"
   ]
  },
  {
   "cell_type": "code",
   "execution_count": 4,
   "id": "56f04273-8b5a-432e-97ff-be885163bdc2",
   "metadata": {},
   "outputs": [
    {
     "name": "stdout",
     "output_type": "stream",
     "text": [
      "A,B: Incorrect.\n",
      "A,C: Incorrect.\n",
      "A,D: Incorrect.\n",
      "A,E: Incorrect.\n",
      "A,F: Incorrect.\n",
      "B,A: Incorrect.\n",
      "B,C: Incorrect.\n",
      "B,D: Incorrect.\n",
      "B,E: Incorrect.\n",
      "B,F: Incorrect.\n",
      "C,A: Incorrect.\n",
      "C,B: Incorrect.\n",
      "C,D: Incorrect.\n",
      "C,E: Incorrect.\n",
      "C,F: Correct!\n",
      "D,A: Incorrect.\n",
      "D,B: Incorrect.\n",
      "D,C: Incorrect.\n",
      "D,E: Incorrect.\n",
      "D,F: Incorrect.\n",
      "E,A: Incorrect.\n",
      "E,B: Incorrect.\n",
      "E,C: Incorrect.\n",
      "E,D: Incorrect.\n",
      "E,F: Incorrect.\n",
      "F,A: Incorrect.\n",
      "F,B: Incorrect.\n",
      "F,C: Correct!\n",
      "F,D: Incorrect.\n",
      "F,E: Incorrect.\n"
     ]
    }
   ],
   "source": [
    "# Click on the checkboxes and try all combinations\n",
    "for choice1 in range(6):\n",
    "    for choice2 in range(6):\n",
    "        if choice1 != choice2:\n",
    "            checkbox[choice1].click()\n",
    "            checkbox[choice2].click()\n",
    "            button.click()\n",
    "            time.sleep(0.01)\n",
    "            print(answers[choice1] + \",\" + answers[choice2] + \": \" + field.text)\n",
    "            checkbox[choice1].click()\n",
    "            checkbox[choice2].click()"
   ]
  },
  {
   "cell_type": "code",
   "execution_count": 5,
   "id": "a6f8667a-0311-4614-8006-3aae28a0ef25",
   "metadata": {},
   "outputs": [],
   "source": [
    "# Remember to quit when it's done\n",
    "driver.quit()"
   ]
  },
  {
   "cell_type": "code",
   "execution_count": null,
   "id": "f797938c-60e9-4589-a3df-a382c386433f",
   "metadata": {},
   "outputs": [],
   "source": []
  }
 ],
 "metadata": {
  "kernelspec": {
   "display_name": "Python 3 (ipykernel)",
   "language": "python",
   "name": "python3"
  },
  "language_info": {
   "codemirror_mode": {
    "name": "ipython",
    "version": 3
   },
   "file_extension": ".py",
   "mimetype": "text/x-python",
   "name": "python",
   "nbconvert_exporter": "python",
   "pygments_lexer": "ipython3",
   "version": "3.11.4"
  }
 },
 "nbformat": 4,
 "nbformat_minor": 5
}
