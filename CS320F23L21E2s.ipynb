{
 "cells": [
  {
   "cell_type": "code",
   "execution_count": 1,
   "id": "4f2c9d4a-9d3b-4268-9212-011681209323",
   "metadata": {},
   "outputs": [],
   "source": [
    "# Code attribution: Yiyin Shen, Tyler Caraza-Harter\n",
    "# Imports\n",
    "from selenium import webdriver\n",
    "from selenium.webdriver.chrome.service import Service\n",
    "import matplotlib.pyplot as plt\n",
    "import time\n",
    "import pandas"
   ]
  },
  {
   "cell_type": "code",
   "execution_count": 2,
   "id": "57c51a62-ca1b-49f6-b04d-2187f797f814",
   "metadata": {},
   "outputs": [
    {
     "name": "stdout",
     "output_type": "stream",
     "text": [
      "DONE\n"
     ]
    }
   ],
   "source": [
    "# Take a screenshot of the page\n",
    "service = Service(executable_path=\"chromedriver-win64/chromedriver.exe\")\n",
    "driver = webdriver.Chrome(service=service)\n",
    "\n",
    "def visit(url, file = None):\n",
    "    driver.get(url)\n",
    "    body = driver.find_element(\"tag name\", \"body\")\n",
    "    if file == None:\n",
    "        print(body.text)\n",
    "    else:\n",
    "        body.screenshot(file + \".png\")\n",
    "        plt.imshow(plt.imread(file + \".png\"))\n",
    "\n",
    "print(\"DONE\")"
   ]
  },
  {
   "cell_type": "code",
   "execution_count": 3,
   "id": "d6bde893-49c5-4f6d-8ee3-c63391908bfe",
   "metadata": {},
   "outputs": [
    {
     "name": "stdout",
     "output_type": "stream",
     "text": [
      "Hello, [127.0.0.1] Mozilla/5.0 (Windows NT 10.0; Win64; x64) AppleWebKit/537.36 (KHTML, like Gecko) Chrome/118.0.0.0 Safari/537.36\n",
      "Please come back in 2.855536937713623 seconds.\n",
      "Please come back in 1.7896039485931396 seconds.\n",
      "Welcome back, [127.0.0.1] Mozilla/5.0 (Windows NT 10.0; Win64; x64) AppleWebKit/537.36 (KHTML, like Gecko) Chrome/118.0.0.0 Safari/537.36\n"
     ]
    }
   ],
   "source": [
    "# Visit and scrape the pages\n",
    "home = \"http://127.0.0.1:5000\"\n",
    "visit(home)\n",
    "visit(home)\n",
    "time.sleep(1)\n",
    "visit(home)\n",
    "time.sleep(2)\n",
    "visit(home)"
   ]
  },
  {
   "cell_type": "code",
   "execution_count": 4,
   "id": "eafd4672-8ae8-4750-a378-94273cd8acaa",
   "metadata": {},
   "outputs": [],
   "source": [
    "# Remember to quit when it's done\n",
    "driver.quit()"
   ]
  },
  {
   "cell_type": "code",
   "execution_count": 5,
   "id": "e0410e0c-115c-4960-9e6a-20ecf9dfb5ec",
   "metadata": {},
   "outputs": [
    {
     "data": {
      "text/html": [
       "<div>\n",
       "<style scoped>\n",
       "    .dataframe tbody tr th:only-of-type {\n",
       "        vertical-align: middle;\n",
       "    }\n",
       "\n",
       "    .dataframe tbody tr th {\n",
       "        vertical-align: top;\n",
       "    }\n",
       "\n",
       "    .dataframe thead th {\n",
       "        text-align: right;\n",
       "    }\n",
       "</style>\n",
       "<table border=\"1\" class=\"dataframe\">\n",
       "  <thead>\n",
       "    <tr style=\"text-align: right;\">\n",
       "      <th></th>\n",
       "      <th>Unnamed: 0</th>\n",
       "      <th>IP</th>\n",
       "      <th>User Agent</th>\n",
       "    </tr>\n",
       "  </thead>\n",
       "  <tbody>\n",
       "    <tr>\n",
       "      <th>0</th>\n",
       "      <td>0</td>\n",
       "      <td>127.0.0.1</td>\n",
       "      <td>Mozilla/5.0 (Windows NT 10.0; Win64; x64) Appl...</td>\n",
       "    </tr>\n",
       "    <tr>\n",
       "      <th>1</th>\n",
       "      <td>1</td>\n",
       "      <td>127.0.0.1</td>\n",
       "      <td>Mozilla/5.0 (Windows NT 10.0; Win64; x64) Appl...</td>\n",
       "    </tr>\n",
       "    <tr>\n",
       "      <th>2</th>\n",
       "      <td>2</td>\n",
       "      <td>127.0.0.1</td>\n",
       "      <td>Mozilla/5.0 (Windows NT 10.0; Win64; x64) Appl...</td>\n",
       "    </tr>\n",
       "    <tr>\n",
       "      <th>3</th>\n",
       "      <td>3</td>\n",
       "      <td>127.0.0.1</td>\n",
       "      <td>Mozilla/5.0 (Windows NT 10.0; Win64; x64) Appl...</td>\n",
       "    </tr>\n",
       "  </tbody>\n",
       "</table>\n",
       "</div>"
      ],
      "text/plain": [
       "   Unnamed: 0         IP                                         User Agent\n",
       "0           0  127.0.0.1  Mozilla/5.0 (Windows NT 10.0; Win64; x64) Appl...\n",
       "1           1  127.0.0.1  Mozilla/5.0 (Windows NT 10.0; Win64; x64) Appl...\n",
       "2           2  127.0.0.1  Mozilla/5.0 (Windows NT 10.0; Win64; x64) Appl...\n",
       "3           3  127.0.0.1  Mozilla/5.0 (Windows NT 10.0; Win64; x64) Appl..."
      ]
     },
     "execution_count": 5,
     "metadata": {},
     "output_type": "execute_result"
    }
   ],
   "source": [
    "# Scrape the table too\n",
    "pandas.read_html(home + \"/visitors\")[0]"
   ]
  }
 ],
 "metadata": {
  "kernelspec": {
   "display_name": "Python 3 (ipykernel)",
   "language": "python",
   "name": "python3"
  },
  "language_info": {
   "codemirror_mode": {
    "name": "ipython",
    "version": 3
   },
   "file_extension": ".py",
   "mimetype": "text/x-python",
   "name": "python",
   "nbconvert_exporter": "python",
   "pygments_lexer": "ipython3",
   "version": "3.11.4"
  }
 },
 "nbformat": 4,
 "nbformat_minor": 5
}
