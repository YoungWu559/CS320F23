{
 "cells": [
  {
   "cell_type": "code",
   "execution_count": 1,
   "id": "4f2c9d4a-9d3b-4268-9212-011681209323",
   "metadata": {},
   "outputs": [],
   "source": [
    "# Code attribution: Yiyin Shen, Tyler Caraza-Harter\n",
    "# Imports\n",
    "import numpy"
   ]
  },
  {
   "cell_type": "code",
   "execution_count": 2,
   "id": "9085097e-3d51-4a0b-b4b3-f0c3f90fa93d",
   "metadata": {},
   "outputs": [
    {
     "data": {
      "text/plain": [
       "[0, 0, 2, 2, 0, 2, 2, 2, 0, 0, 0, 2, 2, 2, 1, 1, 1, 0, 2, 2]"
      ]
     },
     "execution_count": 2,
     "metadata": {},
     "output_type": "execute_result"
    }
   ],
   "source": [
    "# Simulate the Markov chain that models the weather [sun, cloud, rain]\n",
    "rng = numpy.random.default_rng(seed = 42)\n",
    "tr = numpy.array([[0.5, 0.3, 0.2], [0.2, 0.5, 0.3], [0.3, 0.2, 0.5]])\n",
    "seq = [rng.choice(3)]\n",
    "for i in range(1000):\n",
    "    seq.append(rng.choice(3, p = tr[seq[i], :]))\n",
    "seq[:20]"
   ]
  },
  {
   "cell_type": "code",
   "execution_count": 3,
   "id": "c829db93-93fd-40b8-bcb3-ff310a277d35",
   "metadata": {},
   "outputs": [
    {
     "data": {
      "text/plain": [
       "array([[0.51714286, 0.25428571, 0.22857143],\n",
       "       [0.22077922, 0.49350649, 0.28571429],\n",
       "       [0.29618768, 0.19648094, 0.50733138]])"
      ]
     },
     "execution_count": 3,
     "metadata": {},
     "output_type": "execute_result"
    }
   ],
   "source": [
    "# Estimate the transitions again\n",
    "tr_hat = numpy.array([[0] * 3] * 3)\n",
    "for i in range(999):\n",
    "    tr_hat[seq[i], seq[i + 1]] += 1\n",
    "tr_hat = tr_hat / numpy.sum(tr_hat, axis = 1).reshape(-1, 1)\n",
    "tr_hat"
   ]
  },
  {
   "cell_type": "code",
   "execution_count": 4,
   "id": "3c0b8625-40c3-420f-bd6f-e78f4d948835",
   "metadata": {},
   "outputs": [
    {
     "data": {
      "text/plain": [
       "array([0.35164835, 0.30769231, 0.34065934])"
      ]
     },
     "execution_count": 4,
     "metadata": {},
     "output_type": "execute_result"
    }
   ],
   "source": [
    "# Estimate the stationary distribution\n",
    "mu_hat, _ = numpy.histogram(seq, bins = 3)\n",
    "mu_hat / numpy.sum(mu_hat)"
   ]
  },
  {
   "cell_type": "code",
   "execution_count": 5,
   "id": "8599dab2-b26c-4f0d-b852-81ec3eef23cc",
   "metadata": {},
   "outputs": [
    {
     "data": {
      "text/plain": [
       "array([0.33333333, 0.33333333, 0.33333333])"
      ]
     },
     "execution_count": 5,
     "metadata": {},
     "output_type": "execute_result"
    }
   ],
   "source": [
    "# Approximate the stationary distribution: anything * transition * transition * transition ...\n",
    "mu_hat = [1, 0, 0]\n",
    "for i in range(100):\n",
    "    mu_hat = mu_hat @ tr\n",
    "mu_hat"
   ]
  },
  {
   "cell_type": "code",
   "execution_count": 6,
   "id": "3bf357f1-bb74-424f-8101-c528272c8ece",
   "metadata": {},
   "outputs": [
    {
     "data": {
      "text/plain": [
       "array([0.33333333, 0.33333333, 0.33333333])"
      ]
     },
     "execution_count": 6,
     "metadata": {},
     "output_type": "execute_result"
    }
   ],
   "source": [
    "# Verify the stationary distribution: mu * transition = mu\n",
    "[1/3] * 3 @ tr"
   ]
  }
 ],
 "metadata": {
  "kernelspec": {
   "display_name": "Python 3 (ipykernel)",
   "language": "python",
   "name": "python3"
  },
  "language_info": {
   "codemirror_mode": {
    "name": "ipython",
    "version": 3
   },
   "file_extension": ".py",
   "mimetype": "text/x-python",
   "name": "python",
   "nbconvert_exporter": "python",
   "pygments_lexer": "ipython3",
   "version": "3.11.4"
  }
 },
 "nbformat": 4,
 "nbformat_minor": 5
}
