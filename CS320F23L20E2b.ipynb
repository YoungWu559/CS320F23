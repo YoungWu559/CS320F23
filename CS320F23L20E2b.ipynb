{
 "cells": [
  {
   "cell_type": "code",
   "execution_count": 1,
   "id": "4f2c9d4a-9d3b-4268-9212-011681209323",
   "metadata": {},
   "outputs": [],
   "source": [
    "# Code attribution: Yiyin Shen, Tyler Caraza-Harter\n",
    "# Imports\n",
    "from selenium import webdriver\n",
    "from selenium.webdriver.chrome.service import Service\n",
    "import matplotlib.pyplot as plt\n",
    "import heapq"
   ]
  },
  {
   "cell_type": "code",
   "execution_count": 2,
   "id": "57c51a62-ca1b-49f6-b04d-2187f797f814",
   "metadata": {},
   "outputs": [
    {
     "name": "stdout",
     "output_type": "stream",
     "text": [
      "DONE\n"
     ]
    }
   ],
   "source": [
    "# Get the button and input and output fields\n",
    "service = Service(executable_path=\"chromedriver-win64/chromedriver.exe\")\n",
    "driver = webdriver.Chrome(service=service)\n",
    "url = \"https://pages.cs.wisc.edu/~yw/CS320F23THH1.html\"\n",
    "driver.get(url)\n",
    "print(\"DONE\")"
   ]
  },
  {
   "cell_type": "code",
   "execution_count": 3,
   "id": "429be008-9129-4a4c-8a9c-88fd1c1e6262",
   "metadata": {},
   "outputs": [
    {
     "data": {
      "text/plain": [
       "[(3.0, 0, 3.0, 'https://pages.cs.wisc.edu/~yw/CS320F23THH2.html'),\n",
       " (3.0, 0, 3.0, 'https://pages.cs.wisc.edu/~yw/CS320F23THH3.html'),\n",
       " (3.0, 0, 3.0, 'https://pages.cs.wisc.edu/~yw/CS320F23THH4.html')]"
      ]
     },
     "execution_count": 3,
     "metadata": {},
     "output_type": "execute_result"
    }
   ],
   "source": [
    "# Get the links on the page given current distance g\n",
    "def get_links(g):\n",
    "    links = driver.find_elements(\"tag name\", \"a\")\n",
    "    pages = list(filter(lambda x : x.text == \"Link\", links))\n",
    "    hrefs = []\n",
    "    for i in range(len(pages)):\n",
    "        span = driver.find_element(\"id\", \"h\" + str(i + 1))\n",
    "        h = float(span.text)\n",
    "        hrefs.append((g + h, g, h, pages[i].get_attribute(\"href\")))\n",
    "    return hrefs\n",
    "\n",
    "get_links(0)"
   ]
  },
  {
   "cell_type": "code",
   "execution_count": 4,
   "id": "6a93af79-7554-4bec-ae6c-835dc8311df1",
   "metadata": {},
   "outputs": [
    {
     "data": {
      "text/plain": [
       "False"
      ]
     },
     "execution_count": 4,
     "metadata": {},
     "output_type": "execute_result"
    }
   ],
   "source": [
    "# Check if there is an additional image on the page\n",
    "def goal_check():\n",
    "    image = driver.find_elements(\"tag name\", \"img\")\n",
    "    if len(image) == 2:\n",
    "        image[0].screenshot(\"image_a.png\")\n",
    "        print(image[0].get_attribute(\"src\"))\n",
    "        plt.imshow(plt.imread(\"image_a.png\"))\n",
    "        return True\n",
    "    return False\n",
    "\n",
    "goal_check()"
   ]
  },
  {
   "cell_type": "code",
   "execution_count": 5,
   "id": "c8baaead-6c1a-4518-9ba1-28740adc4a94",
   "metadata": {},
   "outputs": [
    {
     "name": "stdout",
     "output_type": "stream",
     "text": [
      "(0, 0, 0, 'https://pages.cs.wisc.edu/~yw/CS320F23THH1.html')\n",
      "(4.0, 1, 3.0, 'https://pages.cs.wisc.edu/~yw/CS320F23THH2.html')\n",
      "(4.0, 1, 3.0, 'https://pages.cs.wisc.edu/~yw/CS320F23THH3.html')\n",
      "(4.0, 1, 3.0, 'https://pages.cs.wisc.edu/~yw/CS320F23THH4.html')\n",
      "(4.0, 2, 2.0, 'https://pages.cs.wisc.edu/~yw/CS320F23THH10.html')\n",
      "(4.0, 2, 2.0, 'https://pages.cs.wisc.edu/~yw/CS320F23THH5.html')\n",
      "(4.0, 2, 2.0, 'https://pages.cs.wisc.edu/~yw/CS320F23THH7.html')\n",
      "(4.0, 3, 1.0, 'https://pages.cs.wisc.edu/~yw/CS320F23THH11.html')\n",
      "(4.0, 3, 1.0, 'https://pages.cs.wisc.edu/~yw/CS320F23THH15.html')\n",
      "(4.0, 3, 1.0, 'https://pages.cs.wisc.edu/~yw/CS320F23THH22.html')\n",
      "(4.0, 4, 0.0, 'https://pages.cs.wisc.edu/~yw/CS320F23THH23.html')\n",
      "https://pages.cs.wisc.edu/~yw/CS320/amongus.png\n"
     ]
    },
    {
     "data": {
      "text/plain": [
       "'https://pages.cs.wisc.edu/~yw/CS320F23THH23.html'"
      ]
     },
     "execution_count": 5,
     "metadata": {},
     "output_type": "execute_result"
    },
    {
     "data": {
      "image/png": "[encoded data removed]",
      "text/plain": [
       "<Figure size 640x480 with 1 Axes>"
      ]
     },
     "metadata": {},
     "output_type": "display_data"
    }
   ],
   "source": [
    "# A to find the goal page\n",
    "def crawl(url):\n",
    "    visited = set()\n",
    "    queue = [(0, 0, 0, url)]\n",
    "    found = False\n",
    "    count = 0 # avoid infinite loop\n",
    "    while count < 100:\n",
    "        count = count + 1\n",
    "        current = heapq.heappop(queue)\n",
    "        if not current[3] in visited:\n",
    "            visited.add(current[3])\n",
    "            driver.get(current[3])\n",
    "            print(current)\n",
    "            found = goal_check()\n",
    "            if found:\n",
    "                return current[3]\n",
    "            links = get_links(current[1] + 1)\n",
    "            for link in links:\n",
    "                if not link[3] in visited:\n",
    "                    heapq.heappush(queue, link)\n",
    "        if len(queue) == 0:\n",
    "            break\n",
    "\n",
    "url = \"https://pages.cs.wisc.edu/~yw/CS320F23THH1.html\"\n",
    "crawl(url)"
   ]
  },
  {
   "cell_type": "code",
   "execution_count": 6,
   "id": "d0aba8af-f724-45ad-a809-398f6dba7830",
   "metadata": {},
   "outputs": [],
   "source": [
    "# Remember to quit when it's done\n",
    "driver.quit()"
   ]
  }
 ],
 "metadata": {
  "kernelspec": {
   "display_name": "Python 3 (ipykernel)",
   "language": "python",
   "name": "python3"
  },
  "language_info": {
   "codemirror_mode": {
    "name": "ipython",
    "version": 3
   },
   "file_extension": ".py",
   "mimetype": "text/x-python",
   "name": "python",
   "nbconvert_exporter": "python",
   "pygments_lexer": "ipython3",
   "version": "3.11.4"
  }
 },
 "nbformat": 4,
 "nbformat_minor": 5
}
