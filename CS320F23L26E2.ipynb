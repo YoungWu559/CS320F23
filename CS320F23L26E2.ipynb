{
 "cells": [
  {
   "cell_type": "code",
   "execution_count": 1,
   "id": "4f2c9d4a-9d3b-4268-9212-011681209323",
   "metadata": {},
   "outputs": [],
   "source": [
    "# Code attribution: Yiyin Shen, Tyler Caraza-Harter\n",
    "# Imports\n",
    "import re\n",
    "import matplotlib.pyplot as plt"
   ]
  },
  {
   "cell_type": "code",
   "execution_count": 2,
   "id": "fcc13569-f861-43da-8d35-e19f51218c9a",
   "metadata": {},
   "outputs": [
    {
     "data": {
      "text/plain": [
       "['Date:   Sun Oct 29 20:32:39 2023 -0500',\n",
       " 'Date:   Sun Oct 29 20:29:27 2023 -0500',\n",
       " 'Date:   Sun Oct 29 20:28:57 2023 -0500',\n",
       " 'Date:   Tue Oct 24 07:02:14 2023 +0000',\n",
       " 'Date:   Tue Oct 24 07:02:07 2023 +0000',\n",
       " 'Date:   Sun Oct 22 11:40:10 2023 -0500',\n",
       " 'Date:   Sun Oct 22 11:39:41 2023 -0500',\n",
       " 'Date:   Thu Oct 19 08:01:05 2023 +0000',\n",
       " 'Date:   Thu Oct 19 00:59:41 2023 +0000',\n",
       " 'Date:   Thu Oct 19 00:59:34 2023 +0000']"
      ]
     },
     "execution_count": 2,
     "metadata": {},
     "output_type": "execute_result"
    }
   ],
   "source": [
    "# Run \"git log > git-log.txt\" to get the text file containing the git log of CS320-F23 repo.\n",
    "with open(\"git-log.txt\", encoding='utf-16') as f:\n",
    "    text = f.read()\n",
    "re.findall(r\"(Date:.*)\\n\", text)[0:10]"
   ]
  },
  {
   "cell_type": "code",
   "execution_count": 3,
   "id": "09abccb5-d5bd-4007-9a5d-202acc45b741",
   "metadata": {},
   "outputs": [
    {
     "data": {
      "text/plain": [
       "['Date:   Sun 10 29 20:32:39 2023 -0500',\n",
       " 'Date:   Sun 10 29 20:29:27 2023 -0500',\n",
       " 'Date:   Sun 10 29 20:28:57 2023 -0500',\n",
       " 'Date:   Tue 10 24 07:02:14 2023 +0000',\n",
       " 'Date:   Tue 10 24 07:02:07 2023 +0000',\n",
       " 'Date:   Sun 10 22 11:40:10 2023 -0500',\n",
       " 'Date:   Sun 10 22 11:39:41 2023 -0500',\n",
       " 'Date:   Thu 10 19 08:01:05 2023 +0000',\n",
       " 'Date:   Thu 10 19 00:59:41 2023 +0000',\n",
       " 'Date:   Thu 10 19 00:59:34 2023 +0000']"
      ]
     },
     "execution_count": 3,
     "metadata": {},
     "output_type": "execute_result"
    }
   ],
   "source": [
    "# Replace months in the dates by numbers\n",
    "copy = text\n",
    "months = {\" Aug \": \" 08 \", \" Sep \": \" 09 \", \" Oct \": \" 10 \"}\n",
    "for m in months.items():\n",
    "    copy = re.sub(m[0], m[1], copy)\n",
    "re.findall(r\"(Date:.*)\\n\", copy)[0:10]"
   ]
  },
  {
   "cell_type": "code",
   "execution_count": 4,
   "id": "5b3d440b-e24d-4411-94a7-9709b96c3d55",
   "metadata": {},
   "outputs": [
    {
     "data": {
      "text/plain": [
       "['Date:   29/10/2023,   Time:   20:32:39',\n",
       " 'Date:   29/10/2023,   Time:   20:29:27',\n",
       " 'Date:   29/10/2023,   Time:   20:28:57',\n",
       " 'Date:   24/10/2023,   Time:   07:02:14',\n",
       " 'Date:   24/10/2023,   Time:   07:02:07',\n",
       " 'Date:   22/10/2023,   Time:   11:40:10',\n",
       " 'Date:   22/10/2023,   Time:   11:39:41',\n",
       " 'Date:   19/10/2023,   Time:   08:01:05',\n",
       " 'Date:   19/10/2023,   Time:   00:59:41',\n",
       " 'Date:   19/10/2023,   Time:   00:59:34']"
      ]
     },
     "execution_count": 4,
     "metadata": {},
     "output_type": "execute_result"
    }
   ],
   "source": [
    "# Replace dates by day/month/year format\n",
    "final = re.sub(r\"\\w{3}\\s(\\d{2})\\s(\\d{2})\\s(\\d{2}:\\d{2}:\\d{2})\\s(\\d{4})\\s[\\+-]\\d{4}\", \"\\g<2>/\\g<1>/\\g<4>,   Time:   \\g<3>\", copy)\n",
    "re.findall(r\"(Date:.*)\\n\", final)[0:10]"
   ]
  },
  {
   "cell_type": "code",
   "execution_count": 5,
   "id": "8cf753fb-64fe-4b2e-ad28-c619e912f1f7",
   "metadata": {},
   "outputs": [
    {
     "name": "stdout",
     "output_type": "stream",
     "text": [
      "commit ff8d4fcfdaf6dac2ba5a0c52c166af7fdb6e3c7d\n",
      "Author: Young Wu <wu489@wisc.edu>\n",
      "Date:   29/10/2023,   Time:   20:32:39\n",
      "\n",
      "    Add files via upload\n",
      "\n",
      "commit 61f95acad3436190c914c8466fa292bba752190b\n",
      "Author: Young Wu <wu489@wisc.edu>\n",
      "Date:   29/10/2023,   Time:   20:29:27\n",
      "\n",
      "    Update README.md\n",
      "\n",
      "commit 5a0d3a025c02aaea5c066\n"
     ]
    }
   ],
   "source": [
    "print(final[0:320])"
   ]
  }
 ],
 "metadata": {
  "kernelspec": {
   "display_name": "Python 3 (ipykernel)",
   "language": "python",
   "name": "python3"
  },
  "language_info": {
   "codemirror_mode": {
    "name": "ipython",
    "version": 3
   },
   "file_extension": ".py",
   "mimetype": "text/x-python",
   "name": "python",
   "nbconvert_exporter": "python",
   "pygments_lexer": "ipython3",
   "version": "3.11.4"
  }
 },
 "nbformat": 4,
 "nbformat_minor": 5
}
