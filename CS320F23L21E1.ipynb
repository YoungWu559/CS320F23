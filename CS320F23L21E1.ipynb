{
 "cells": [
  {
   "cell_type": "code",
   "execution_count": 1,
   "id": "4f2c9d4a-9d3b-4268-9212-011681209323",
   "metadata": {},
   "outputs": [],
   "source": [
    "# Code attribution: Yiyin Shen, Tyler Caraza-Harter\n",
    "# Imports\n",
    "from flask import Flask, request, redirect, jsonify, Response\n",
    "import matplotlib.pyplot as plt\n",
    "import time\n",
    "import pandas"
   ]
  },
  {
   "cell_type": "code",
   "execution_count": null,
   "id": "57c51a62-ca1b-49f6-b04d-2187f797f814",
   "metadata": {},
   "outputs": [
    {
     "name": "stdout",
     "output_type": "stream",
     "text": [
      " * Serving Flask app '__main__'\n",
      " * Debug mode: off\n"
     ]
    },
    {
     "name": "stderr",
     "output_type": "stream",
     "text": [
      "WARNING: This is a development server. Do not use it in a production deployment. Use a production WSGI server instead.\n",
      " * Running on all addresses (0.0.0.0)\n",
      " * Running on http://127.0.0.1:5000\n",
      " * Running on http://192.168.1.87:5000\n",
      "Press CTRL+C to quit\n",
      "127.0.0.1 - - [15/Oct/2023 11:35:39] \"GET / HTTP/1.1\" 302 -\n",
      "127.0.0.1 - - [15/Oct/2023 11:35:39] \"GET /visit HTTP/1.1\" 200 -\n",
      "127.0.0.1 - - [15/Oct/2023 11:35:39] \"GET /favicon.ico HTTP/1.1\" 404 -\n",
      "127.0.0.1 - - [15/Oct/2023 11:35:39] \"GET /visit HTTP/1.1\" 200 -\n",
      "127.0.0.1 - - [15/Oct/2023 11:35:39] \"GET /visit/peter1 HTTP/1.1\" 200 -\n",
      "127.0.0.1 - - [15/Oct/2023 11:35:39] \"GET /visit/peter2 HTTP/1.1\" 200 -\n",
      "127.0.0.1 - - [15/Oct/2023 11:35:39] \"GET /visit/peter3 HTTP/1.1\" 200 -\n",
      "127.0.0.1 - - [15/Oct/2023 11:35:39] \"GET /visitors HTTP/1.1\" 200 -\n",
      "127.0.0.1 - - [15/Oct/2023 11:35:41] \"GET /visitors HTTP/1.1\" 200 -\n"
     ]
    }
   ],
   "source": [
    "# Build a webpage that keeps track of visitors\n",
    "app = Flask(__name__)\n",
    "\n",
    "visitor = 0\n",
    "visitors = []\n",
    "\n",
    "@app.route(\"/\")\n",
    "def index():\n",
    "    return redirect(\"visit\")\n",
    "\n",
    "@app.route(\"/visit\")\n",
    "def home():\n",
    "    global visitor, visitors\n",
    "    visitor = visitor + 1\n",
    "    visitors.append([visitor, \"-\", request.remote_addr])\n",
    "    return \"Hello, visitor \" + str(visitor)\n",
    "\n",
    "@app.route(\"/visit/<x>\")\n",
    "def hello(x):\n",
    "    global visitor, visitors\n",
    "    visitor = visitor + 1\n",
    "    visitors.append([visitor, x, request.remote_addr])\n",
    "    return \"Hello, \" + x\n",
    "\n",
    "@app.route(\"/visitors\")\n",
    "def display():\n",
    "    df = pandas.DataFrame(visitors, columns = [\"#\", \"Name\", \"IP\"])\n",
    "    return df.to_html()\n",
    "\n",
    "if __name__ == \"__main__\":\n",
    "    app.run(host = \"0.0.0.0\", debug = False, threaded = False)"
   ]
  },
  {
   "cell_type": "code",
   "execution_count": null,
   "id": "07f66cba-e9ae-4acd-bf09-28ca5e0eb3c5",
   "metadata": {},
   "outputs": [],
   "source": []
  }
 ],
 "metadata": {
  "kernelspec": {
   "display_name": "Python 3 (ipykernel)",
   "language": "python",
   "name": "python3"
  },
  "language_info": {
   "codemirror_mode": {
    "name": "ipython",
    "version": 3
   },
   "file_extension": ".py",
   "mimetype": "text/x-python",
   "name": "python",
   "nbconvert_exporter": "python",
   "pygments_lexer": "ipython3",
   "version": "3.11.4"
  }
 },
 "nbformat": 4,
 "nbformat_minor": 5
}
