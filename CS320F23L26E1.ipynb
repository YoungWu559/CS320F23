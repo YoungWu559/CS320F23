{
 "cells": [
  {
   "cell_type": "code",
   "execution_count": 1,
   "id": "4f2c9d4a-9d3b-4268-9212-011681209323",
   "metadata": {},
   "outputs": [],
   "source": [
    "# Code attribution: Yiyin Shen, Tyler Caraza-Harter\n",
    "# Imports\n",
    "import re\n",
    "import matplotlib.pyplot as plt"
   ]
  },
  {
   "cell_type": "code",
   "execution_count": 2,
   "id": "fcc13569-f861-43da-8d35-e19f51218c9a",
   "metadata": {},
   "outputs": [
    {
     "name": "stdout",
     "output_type": "stream",
     "text": [
      "commit ff8d4fcfdaf6dac2ba5a0c52c166af7fdb6e3c7d\n",
      "Author: Young Wu <wu489@wisc.edu>\n",
      "Date:   Sun Oct 29 20:32:39 2023 -0500\n",
      "\n",
      "    Add files via upload\n",
      "\n",
      "commit 61f95acad3436190c914c8466fa292bba752190b\n",
      "Author: Young Wu <wu489@wisc.edu>\n",
      "Date:   Sun Oct 29 20:29:27 2023 -0500\n",
      "\n",
      "    Update README.md\n",
      "\n",
      "commit 5a0d3a025c02aaea5c066\n"
     ]
    }
   ],
   "source": [
    "# Run \"git log > git-log.txt\" to get the text file containing the git log of CS320-F23 repo.\n",
    "with open(\"git-log.txt\", encoding='utf-16') as f:\n",
    "    text = f.read()\n",
    "print(text[0:320])"
   ]
  },
  {
   "cell_type": "code",
   "execution_count": 3,
   "id": "09abccb5-d5bd-4007-9a5d-202acc45b741",
   "metadata": {},
   "outputs": [
    {
     "data": {
      "text/plain": [
       "['ff8d4fcfdaf6dac2ba5a0c52c166af7fdb6e3c7d',\n",
       " '61f95acad3436190c914c8466fa292bba752190b',\n",
       " '5a0d3a025c02aaea5c06633aec126ed523c12dd1',\n",
       " '1f7589a6a342cd05775d616766512da66d83326b',\n",
       " '46310d481036b71421318e991a2333516dfd3a87',\n",
       " 'd3cff3c9bfca1e083851bb9997e7054e68d37697',\n",
       " '908c27b3fc58ceabe2429a885746b6008581d757',\n",
       " '5b583c88a6c178011564fafe031153153a0b4e6e',\n",
       " '5a97bcc334ddf0ede8fc1300061bc3f8b2627282',\n",
       " 'dd853ffabd1f4462cf067ee86e4e0d3ec6213f11']"
      ]
     },
     "execution_count": 3,
     "metadata": {},
     "output_type": "execute_result"
    }
   ],
   "source": [
    "# Find the commit numbers (40 hex digits)\n",
    "commits = re.findall(r\"[0-9a-fA-F]{40}\", text)\n",
    "commits[0:10]"
   ]
  },
  {
   "cell_type": "code",
   "execution_count": 4,
   "id": "5b3d440b-e24d-4411-94a7-9709b96c3d55",
   "metadata": {},
   "outputs": [
    {
     "data": {
      "text/plain": [
       "['<wu489@wisc.edu>',\n",
       " '<wu489@wisc.edu>',\n",
       " '<wu489@wisc.edu>',\n",
       " '<sophia1998shen@gmail.com>',\n",
       " '<sophia1998shen@gmail.com>',\n",
       " '<wu489@wisc.edu>',\n",
       " '<wu489@wisc.edu>',\n",
       " '<sophia1998shen@gmail.com>',\n",
       " '<sophia1998shen@gmail.com>',\n",
       " '<sophia1998shen@gmail.com>']"
      ]
     },
     "execution_count": 4,
     "metadata": {},
     "output_type": "execute_result"
    }
   ],
   "source": [
    "# Find the emails (something@something.something)\n",
    "emails = re.findall(r\"<.*@.*\\..*>\", text)\n",
    "emails[0:10]"
   ]
  },
  {
   "cell_type": "code",
   "execution_count": 5,
   "id": "43b26593-69d8-4447-922f-f0b7ec6acf00",
   "metadata": {},
   "outputs": [
    {
     "data": {
      "text/plain": [
       "['wu489@wisc.edu',\n",
       " 'wu489@wisc.edu',\n",
       " 'wu489@wisc.edu',\n",
       " 'sophia1998shen@gmail.com',\n",
       " 'sophia1998shen@gmail.com',\n",
       " 'wu489@wisc.edu',\n",
       " 'wu489@wisc.edu',\n",
       " 'sophia1998shen@gmail.com',\n",
       " 'sophia1998shen@gmail.com',\n",
       " 'sophia1998shen@gmail.com']"
      ]
     },
     "execution_count": 5,
     "metadata": {},
     "output_type": "execute_result"
    }
   ],
   "source": [
    "# Find the email without the < ... >\n",
    "actual_emails = re.findall(r\"<(.+@.+\\..+)>\", text)\n",
    "actual_emails[0:10]"
   ]
  },
  {
   "cell_type": "code",
   "execution_count": 6,
   "id": "f0d576c2-cdeb-4e35-8609-334f733c8381",
   "metadata": {},
   "outputs": [
    {
     "data": {
      "text/plain": [
       "(array([13.,  0., 38.,  0.,  0.,  1.,  0.,  1.,  0.,  2.]),\n",
       " array([0. , 0.4, 0.8, 1.2, 1.6, 2. , 2.4, 2.8, 3.2, 3.6, 4. ]),\n",
       " <BarContainer object of 10 artists>)"
      ]
     },
     "execution_count": 6,
     "metadata": {},
     "output_type": "execute_result"
    },
    {
     "data": {
      "image/png": "[encoded data removed]",
      "text/plain": [
       "<Figure size 640x480 with 1 Axes>"
      ]
     },
     "metadata": {},
     "output_type": "display_data"
    }
   ],
   "source": [
    "# Find the email ids before the @...\n",
    "email_ids = re.findall(r\"<(.+)@.*\\..*>\", text)\n",
    "plt.hist(email_ids)"
   ]
  },
  {
   "cell_type": "code",
   "execution_count": 7,
   "id": "1a1a575c-c916-4a6b-9e3a-2c58caf108aa",
   "metadata": {},
   "outputs": [
    {
     "data": {
      "text/plain": [
       "[('Sun Oct 29', 'Sun', '20:32:39'),\n",
       " ('Sun Oct 29', 'Sun', '20:29:27'),\n",
       " ('Sun Oct 29', 'Sun', '20:28:57'),\n",
       " ('Tue Oct 24', 'Tue', '07:02:14'),\n",
       " ('Tue Oct 24', 'Tue', '07:02:07'),\n",
       " ('Sun Oct 22', 'Sun', '11:40:10'),\n",
       " ('Sun Oct 22', 'Sun', '11:39:41'),\n",
       " ('Thu Oct 19', 'Thu', '08:01:05'),\n",
       " ('Thu Oct 19', 'Thu', '00:59:41'),\n",
       " ('Thu Oct 19', 'Thu', '00:59:34')]"
      ]
     },
     "execution_count": 7,
     "metadata": {},
     "output_type": "execute_result"
    }
   ],
   "source": [
    "# Find the dates and times (e.g. Fri Sep 1 00:00:00)\n",
    "dates = re.findall(r\"((\\w{3})\\s\\w{3}\\s\\d{1,2})\\s(\\d{2}:\\d{2}:\\d{2})\\s\\d{4}\", text)\n",
    "dates[0:10]"
   ]
  },
  {
   "cell_type": "code",
   "execution_count": 8,
   "id": "db4a95f6-ffd6-44f1-a21d-a70694f3f1f0",
   "metadata": {},
   "outputs": [
    {
     "data": {
      "text/plain": [
       "<BarContainer object of 7 artists>"
      ]
     },
     "execution_count": 8,
     "metadata": {},
     "output_type": "execute_result"
    },
    {
     "data": {
      "image/png": "[encoded data removed]",
      "text/plain": [
       "<Figure size 640x480 with 1 Axes>"
      ]
     },
     "metadata": {},
     "output_type": "display_data"
    }
   ],
   "source": [
    "# Plot a histogram of days\n",
    "days = list(map(lambda x: x[1], dates))\n",
    "labels = [\"Mon\", \"Tue\", \"Wed\", \"Thu\", \"Fri\", \"Sat\", \"Sun\"]\n",
    "counts = list(map(lambda x: days.count(x), labels))\n",
    "plt.bar(labels, counts)"
   ]
  }
 ],
 "metadata": {
  "kernelspec": {
   "display_name": "Python 3 (ipykernel)",
   "language": "python",
   "name": "python3"
  },
  "language_info": {
   "codemirror_mode": {
    "name": "ipython",
    "version": 3
   },
   "file_extension": ".py",
   "mimetype": "text/x-python",
   "name": "python",
   "nbconvert_exporter": "python",
   "pygments_lexer": "ipython3",
   "version": "3.11.4"
  }
 },
 "nbformat": 4,
 "nbformat_minor": 5
}
