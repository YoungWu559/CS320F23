{
 "cells": [
  {
   "cell_type": "code",
   "execution_count": 1,
   "id": "4f2c9d4a-9d3b-4268-9212-011681209323",
   "metadata": {},
   "outputs": [],
   "source": [
    "# Code attribution: Yiyin Shen, Tyler Caraza-Harter\n",
    "# Imports\n",
    "import numpy"
   ]
  },
  {
   "cell_type": "code",
   "execution_count": 2,
   "id": "9085097e-3d51-4a0b-b4b3-f0c3f90fa93d",
   "metadata": {},
   "outputs": [
    {
     "data": {
      "text/plain": [
       "' I am Groot. I. am Groot am Groot.. I Groot. I am I Groot. am Groot. Groot. I am I am Groot.. I am Groot am am Groot Groot. I Groot. I Groot. I am Groot am'"
      ]
     },
     "execution_count": 2,
     "metadata": {},
     "output_type": "execute_result"
    }
   ],
   "source": [
    "# Simulate the bigram model for Groot\n",
    "rng = numpy.random.default_rng(seed = 42)\n",
    "token = [\" I\", \" am\", \" Groot\", \".\"]\n",
    "tr = numpy.array([[0.1, 0.7, 0.1, 0.1], [0.1, 0.1, 0.7, 0.1], [0.1, 0.1, 0.1, 0.7], [0.7, 0.1, 0.1, 0.1]])\n",
    "seq = [rng.choice(4)]\n",
    "text = [token[seq[0]]]\n",
    "for i in range(1000):\n",
    "    seq.append(rng.choice(4, p = tr[seq[i], :]))\n",
    "    text.append(token[seq[i + 1]])\n",
    "\"\".join(text[:50])"
   ]
  },
  {
   "cell_type": "code",
   "execution_count": 3,
   "id": "c829db93-93fd-40b8-bcb3-ff310a277d35",
   "metadata": {},
   "outputs": [
    {
     "data": {
      "text/plain": [
       "array([[0.09053498, 0.71604938, 0.10699588, 0.08641975],\n",
       "       [0.12260536, 0.09578544, 0.67816092, 0.10344828],\n",
       "       [0.08333333, 0.13492063, 0.09920635, 0.68253968],\n",
       "       [0.69135802, 0.11522634, 0.09876543, 0.09465021]])"
      ]
     },
     "execution_count": 3,
     "metadata": {},
     "output_type": "execute_result"
    }
   ],
   "source": [
    "# Estimate the transitions again\n",
    "tr_hat = numpy.array([[0] * 4] * 4)\n",
    "for i in range(999):\n",
    "    tr_hat[seq[i], seq[i + 1]] += 1\n",
    "tr_hat = tr_hat / numpy.sum(tr_hat, axis = 1).reshape(-1, 1)\n",
    "tr_hat"
   ]
  },
  {
   "cell_type": "code",
   "execution_count": 4,
   "id": "3c0b8625-40c3-420f-bd6f-e78f4d948835",
   "metadata": {},
   "outputs": [
    {
     "data": {
      "text/plain": [
       "120"
      ]
     },
     "execution_count": 4,
     "metadata": {},
     "output_type": "execute_result"
    }
   ],
   "source": [
    "# Count the number of time \"I am Groot\" appeared\n",
    "count = 0\n",
    "for i in range(998):\n",
    "    if seq[i] == 0 and seq[i + 1] == 1 and seq[i + 2] == 2:\n",
    "        count += 1\n",
    "count"
   ]
  }
 ],
 "metadata": {
  "kernelspec": {
   "display_name": "Python 3 (ipykernel)",
   "language": "python",
   "name": "python3"
  },
  "language_info": {
   "codemirror_mode": {
    "name": "ipython",
    "version": 3
   },
   "file_extension": ".py",
   "mimetype": "text/x-python",
   "name": "python",
   "nbconvert_exporter": "python",
   "pygments_lexer": "ipython3",
   "version": "3.11.4"
  }
 },
 "nbformat": 4,
 "nbformat_minor": 5
}
