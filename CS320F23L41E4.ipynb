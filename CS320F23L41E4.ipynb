{
 "cells": [
  {
   "cell_type": "code",
   "execution_count": 1,
   "id": "4f2c9d4a-9d3b-4268-9212-011681209323",
   "metadata": {},
   "outputs": [],
   "source": [
    "# Code attribution: Yiyin Shen, Tyler Caraza-Harter\n",
    "# Imports\n",
    "import sklearn\n",
    "import sklearn.decomposition\n",
    "import sklearn.impute\n",
    "import geopandas\n",
    "import pandas\n",
    "import shapely\n",
    "import numpy\n",
    "import matplotlib.pyplot as plt"
   ]
  },
  {
   "cell_type": "code",
   "execution_count": 2,
   "id": "9ba0b6ad-f819-4c6e-9979-ed0c69662ca6",
   "metadata": {},
   "outputs": [
    {
     "data": {
      "text/plain": [
       "array([[-3.41837110e-01, -2.72299505e-01, -2.43077934e-01,\n",
       "        -3.40324616e-01, -3.19624545e-01, -3.09324344e-01,\n",
       "        -3.06725318e-01, -1.04464533e+00, -7.99733159e-01,\n",
       "        -1.28769981e+00, -1.35594162e+00, -1.23288204e+00,\n",
       "        -1.28890469e+00, -1.28888500e+00, -2.68065547e-01],\n",
       "       [-6.75623478e-01, -7.65635948e-01, -7.83613007e-01,\n",
       "        -6.76094478e-01, -7.11945327e-01, -7.23348772e-01,\n",
       "        -7.23099059e-01, -9.65791949e-02,  7.54489458e-01,\n",
       "         3.32493069e-01,  7.17488439e-01,  9.32445961e-01,\n",
       "         1.03569578e+00,  1.03567467e+00, -7.85144660e-01],\n",
       "       [-4.85733029e-02,  2.58396711e-03,  7.44911590e-02,\n",
       "        -4.67443476e-02, -1.83734086e-02, -3.13965049e-03,\n",
       "         5.26418474e-02, -9.14165266e-01, -4.89604513e-01,\n",
       "        -6.27182798e-01, -6.67621151e-01, -2.31373971e-01,\n",
       "        -6.49954153e-02, -6.49326720e-02,  2.47314722e-02],\n",
       "       [-5.19596988e-01, -5.06788992e-01, -5.14358886e-01,\n",
       "        -5.18963369e-01, -5.04544431e-01, -5.04932052e-01,\n",
       "        -5.14728333e-01, -1.02545708e+00, -1.09656692e+00,\n",
       "        -1.12394641e+00, -1.15422124e+00, -1.22454711e+00,\n",
       "        -1.10265143e+00, -1.10263407e+00, -5.08782074e-01],\n",
       "       [ 5.03631776e+00,  4.70296477e+00,  4.44532525e+00,\n",
       "         4.98062713e+00,  4.97479028e+00,  4.84627386e+00,\n",
       "         4.82259576e+00,  7.01484923e-01, -2.49785330e-01,\n",
       "         1.50887999e+00,  1.30876655e+00,  1.05761619e+00,\n",
       "         2.08504610e+00,  2.08509383e+00,  4.43617422e+00]])"
      ]
     },
     "execution_count": 2,
     "metadata": {},
     "output_type": "execute_result"
    }
   ],
   "source": [
    "# Read the US Map and the data\n",
    "# Same as the code in the previous two lectures\n",
    "data = pandas.read_csv(\"SASUMMARY__ALL_AREAS_1998_2022.csv\")\n",
    "sub = data.pivot(index = \"GeoName\", columns = \"LineCode\", values = \"2021\")\n",
    "features = sub.drop(\"United States\", axis = \"index\")\n",
    "impute = sklearn.impute.SimpleImputer(strategy = \"mean\")\n",
    "impute.fit(features)\n",
    "full = impute.transform(features)\n",
    "scale = sklearn.preprocessing.StandardScaler()\n",
    "scale.fit(full)\n",
    "x = scale.transform(full)\n",
    "x[:5, :]"
   ]
  },
  {
   "cell_type": "code",
   "execution_count": 3,
   "id": "8b14fb2e-9620-44eb-9d9d-b7cdc5247cdd",
   "metadata": {},
   "outputs": [
    {
     "data": {
      "text/plain": [
       "array([[9.01412012, 5.03351571, 0.90684963],\n",
       "       [0.58915818, 0.32898795, 0.05927122]])"
      ]
     },
     "execution_count": 3,
     "metadata": {},
     "output_type": "execute_result"
    }
   ],
   "source": [
    "# Compute explained variance\n",
    "pca = sklearn.decomposition.PCA(n_components = 3)\n",
    "pca.fit(x)\n",
    "numpy.vstack([pca.explained_variance_, pca.explained_variance_ratio_])"
   ]
  },
  {
   "cell_type": "code",
   "execution_count": 4,
   "id": "bc928eaf-8a77-45f2-a732-846dbb405219",
   "metadata": {},
   "outputs": [
    {
     "data": {
      "text/plain": [
       "0.9774173497603195"
      ]
     },
     "execution_count": 4,
     "metadata": {},
     "output_type": "execute_result"
    }
   ],
   "source": [
    "# Check the total amount of variation explained\n",
    "sum(pca.explained_variance_ratio_)"
   ]
  },
  {
   "cell_type": "code",
   "execution_count": 5,
   "id": "855ef5c8-c252-4ee6-8cde-44c8487bc4c6",
   "metadata": {},
   "outputs": [
    {
     "data": {
      "text/plain": [
       "array([[9.01412012, 5.03351571, 0.90684963, 0.27976852],\n",
       "       [0.58915818, 0.32898795, 0.05927122, 0.01828552]])"
      ]
     },
     "execution_count": 5,
     "metadata": {},
     "output_type": "execute_result"
    }
   ],
   "source": [
    "# Set the explained variance ratio to find the number of dimensions\n",
    "pca = sklearn.decomposition.PCA(n_components = 0.99)\n",
    "pca.fit(x)\n",
    "numpy.vstack([pca.explained_variance_, pca.explained_variance_ratio_])"
   ]
  }
 ],
 "metadata": {
  "kernelspec": {
   "display_name": "Python 3 (ipykernel)",
   "language": "python",
   "name": "python3"
  },
  "language_info": {
   "codemirror_mode": {
    "name": "ipython",
    "version": 3
   },
   "file_extension": ".py",
   "mimetype": "text/x-python",
   "name": "python",
   "nbconvert_exporter": "python",
   "pygments_lexer": "ipython3",
   "version": "3.11.4"
  }
 },
 "nbformat": 4,
 "nbformat_minor": 5
}
