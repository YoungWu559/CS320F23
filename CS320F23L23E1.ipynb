{
 "cells": [
  {
   "cell_type": "code",
   "execution_count": 1,
   "id": "4f2c9d4a-9d3b-4268-9212-011681209323",
   "metadata": {},
   "outputs": [],
   "source": [
    "# Code attribution: Yiyin Shen, Tyler Caraza-Harter\n",
    "# Imports\n",
    "from flask import Flask, request, Response\n",
    "from io import BytesIO\n",
    "import matplotlib.pyplot as plt\n",
    "import pandas\n",
    "import json"
   ]
  },
  {
   "cell_type": "code",
   "execution_count": null,
   "id": "57c51a62-ca1b-49f6-b04d-2187f797f814",
   "metadata": {},
   "outputs": [
    {
     "name": "stdout",
     "output_type": "stream",
     "text": [
      " * Serving Flask app 'app'\n",
      " * Debug mode: off\n"
     ]
    },
    {
     "name": "stderr",
     "output_type": "stream",
     "text": [
      "WARNING: This is a development server. Do not use it in a production deployment. Use a production WSGI server instead.\n",
      " * Running on all addresses (0.0.0.0)\n",
      " * Running on http://127.0.0.1:5000\n",
      " * Running on http://192.168.1.87:5000\n",
      "Press CTRL+C to quit\n",
      "192.168.1.87 - - [24/Oct/2023 22:37:26] \"GET / HTTP/1.1\" 200 -\n",
      "192.168.1.87 - - [24/Oct/2023 22:37:26] \"GET /grades.png?col=Quiz HTTP/1.1\" 200 -\n",
      "192.168.1.87 - - [24/Oct/2023 22:37:26] \"GET /grades.svg?col=Project HTTP/1.1\" 200 -\n",
      "192.168.1.87 - - [24/Oct/2023 22:37:26] \"GET /favicon.ico HTTP/1.1\" 404 -\n",
      "127.0.0.1 - - [24/Oct/2023 22:38:56] \"GET / HTTP/1.1\" 200 -\n",
      "127.0.0.1 - - [24/Oct/2023 22:38:56] \"GET /grades.png?col=Quiz HTTP/1.1\" 200 -\n",
      "127.0.0.1 - - [24/Oct/2023 22:38:56] \"GET /grades.svg?col=Project HTTP/1.1\" 200 -\n",
      "127.0.0.1 - - [24/Oct/2023 22:38:56] \"GET /favicon.ico HTTP/1.1\" 404 -\n",
      "127.0.0.1 - - [24/Oct/2023 22:38:56] \"GET /grades.json HTTP/1.1\" 200 -\n",
      "127.0.0.1 - - [24/Oct/2023 22:38:57] \"GET /grades.json?col=no HTTP/1.1\" 200 -\n",
      "127.0.0.1 - - [24/Oct/2023 22:38:57] \"GET /grades.json?col=Exam HTTP/1.1\" 200 -\n"
     ]
    }
   ],
   "source": [
    "# Build a webpage that displays the grades as histogram as json\n",
    "app = Flask(\"app\")\n",
    "\n",
    "@app.route(\"/\")\n",
    "def home():\n",
    "    return \"\"\"\n",
    "    <html>\n",
    "    <body>\n",
    "    <h1>Quiz PNG</h1>\n",
    "    <img src=\"grades.png?col=Quiz\" width=\"250\"><br>\n",
    "    <h1>Project SVG</h1>\n",
    "    <img src=\"grades.svg?col=Project\" width=\"250\"><br>\n",
    "    </body>\n",
    "    </html>\n",
    "    \"\"\"\n",
    "\n",
    "@app.route(\"/grades.png\")\n",
    "def grades_png():\n",
    "    if request.args and request.args[\"col\"]:\n",
    "        table = pandas.read_csv(\"Grades.csv\")\n",
    "        fig, ax = plt.subplots()\n",
    "        col = request.args[\"col\"]\n",
    "        if col in [\"Quiz\", \"Project\", \"Exam\"]:\n",
    "            ax.hist(table[col])\n",
    "            ax.set_title(col + \" Grades\")\n",
    "            fake_file = BytesIO()\n",
    "            fig.savefig(fake_file, format = \"png\")\n",
    "            return Response(fake_file.getvalue(), headers = {\"Content-Type\": \"image/png\"})\n",
    "        else:\n",
    "            return \"Column not found.\"\n",
    "    else:\n",
    "        return \"Column not specified.\"\n",
    "\n",
    "@app.route(\"/grades.svg\")\n",
    "def grades_svg():\n",
    "    if request.args and request.args[\"col\"]:\n",
    "        table = pandas.read_csv(\"Grades.csv\")\n",
    "        fig, ax = plt.subplots()\n",
    "        col = request.args[\"col\"]\n",
    "        if col in [\"Quiz\", \"Project\", \"Exam\"]:\n",
    "            ax.hist(table[col])\n",
    "            ax.set_title(col + \" Grades\")\n",
    "            fake_file = BytesIO()\n",
    "            fig.savefig(fake_file, format = \"svg\")\n",
    "            return Response(fake_file.getvalue(), headers = {\"Content-Type\": \"image/svg+xml\"})\n",
    "        else:\n",
    "            return \"Column not found.\"\n",
    "    else:\n",
    "        return \"Column not specified.\"\n",
    "\n",
    "@app.route(\"/grades.json\")\n",
    "def grades_json():\n",
    "    if request.args and request.args[\"col\"]:\n",
    "        table = pandas.read_csv(\"Grades.csv\")\n",
    "        col = request.args[\"col\"]\n",
    "        if col in [\"Quiz\", \"Project\", \"Exam\"]:\n",
    "            table = pandas.read_csv(\"Grades.csv\")\n",
    "            table = table.sample(frac = 1).reset_index(drop = True)\n",
    "            return Response(table[col].to_json(), headers = {\"Content-Type\": \"application/json\"})\n",
    "        else:\n",
    "            return json.dumps({\"1\":\"0\", \"2\":\"0\", \"3\":\"0\"})\n",
    "    else:\n",
    "        return \"Column not specified.\"\n",
    "\n",
    "app.run(host = \"0.0.0.0\", debug = False, threaded = False)"
   ]
  },
  {
   "cell_type": "code",
   "execution_count": null,
   "id": "11aa4df2-d7d0-4609-b2f6-f5a63474c3ef",
   "metadata": {},
   "outputs": [],
   "source": []
  },
  {
   "cell_type": "code",
   "execution_count": null,
   "id": "47d0aaad-324a-4dc5-bd42-341b68c5ec37",
   "metadata": {},
   "outputs": [],
   "source": []
  }
 ],
 "metadata": {
  "kernelspec": {
   "display_name": "Python 3 (ipykernel)",
   "language": "python",
   "name": "python3"
  },
  "language_info": {
   "codemirror_mode": {
    "name": "ipython",
    "version": 3
   },
   "file_extension": ".py",
   "mimetype": "text/x-python",
   "name": "python",
   "nbconvert_exporter": "python",
   "pygments_lexer": "ipython3",
   "version": "3.11.4"
  }
 },
 "nbformat": 4,
 "nbformat_minor": 5
}
