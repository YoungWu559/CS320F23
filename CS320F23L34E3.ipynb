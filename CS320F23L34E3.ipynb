{
 "cells": [
  {
   "cell_type": "code",
   "execution_count": 1,
   "id": "4f2c9d4a-9d3b-4268-9212-011681209323",
   "metadata": {},
   "outputs": [],
   "source": [
    "# Code attribution: Yiyin Shen, Tyler Caraza-Harter\n",
    "# Imports\n",
    "import scipy\n",
    "import numpy"
   ]
  },
  {
   "cell_type": "code",
   "execution_count": 2,
   "id": "4b0106e4-217f-41fd-b0d2-52ceb0039f5f",
   "metadata": {},
   "outputs": [
    {
     "data": {
      "text/plain": [
       "array([[1.        , 0.5       , 0.33333333, 0.25      , 0.2       ],\n",
       "       [0.5       , 0.33333333, 0.25      , 0.2       , 0.16666667],\n",
       "       [0.33333333, 0.25      , 0.2       , 0.16666667, 0.14285714],\n",
       "       [0.25      , 0.2       , 0.16666667, 0.14285714, 0.125     ],\n",
       "       [0.2       , 0.16666667, 0.14285714, 0.125     , 0.11111111]])"
      ]
     },
     "execution_count": 2,
     "metadata": {},
     "output_type": "execute_result"
    }
   ],
   "source": [
    "# Create a Hilbert matrix\n",
    "h = scipy.linalg.hilbert(5)\n",
    "h"
   ]
  },
  {
   "cell_type": "code",
   "execution_count": 3,
   "id": "5b7d1c46-7185-4b70-94a8-0438fb1c9baf",
   "metadata": {},
   "outputs": [
    {
     "data": {
      "text/plain": [
       "array([1., 1., 1., 1., 1.])"
      ]
     },
     "execution_count": 3,
     "metadata": {},
     "output_type": "execute_result"
    }
   ],
   "source": [
    "# Solve h x = h @ [1, 1, 1, 1, 1] for x -> x should be [1, 1, 1, 1, 1]\n",
    "x = scipy.linalg.solve(h, h @ ([1] * 5))\n",
    "x"
   ]
  },
  {
   "cell_type": "code",
   "execution_count": 4,
   "id": "71c4e04d-41ae-46d4-82e7-0c1c93cbc37f",
   "metadata": {},
   "outputs": [
    {
     "data": {
      "text/plain": [
       "array([[1.        , 0.5       , 0.33333333, ..., 0.02083333, 0.02040816,\n",
       "        0.02      ],\n",
       "       [0.5       , 0.33333333, 0.25      , ..., 0.02040816, 0.02      ,\n",
       "        0.01960784],\n",
       "       [0.33333333, 0.25      , 0.2       , ..., 0.02      , 0.01960784,\n",
       "        0.01923077],\n",
       "       ...,\n",
       "       [0.02083333, 0.02040816, 0.02      , ..., 0.01052632, 0.01041667,\n",
       "        0.01030928],\n",
       "       [0.02040816, 0.02      , 0.01960784, ..., 0.01041667, 0.01030928,\n",
       "        0.01020408],\n",
       "       [0.02      , 0.01960784, 0.01923077, ..., 0.01030928, 0.01020408,\n",
       "        0.01010101]])"
      ]
     },
     "execution_count": 4,
     "metadata": {},
     "output_type": "execute_result"
    }
   ],
   "source": [
    "# Creat a larger Hilbert matrix\n",
    "h = scipy.linalg.hilbert(50)\n",
    "h"
   ]
  },
  {
   "cell_type": "code",
   "execution_count": 5,
   "id": "caea4c21-a708-460f-a821-8648ea1a0c1a",
   "metadata": {},
   "outputs": [
    {
     "name": "stderr",
     "output_type": "stream",
     "text": [
      "C:\\Users\\young\\AppData\\Local\\Temp\\ipykernel_17948\\2369993951.py:2: LinAlgWarning: Ill-conditioned matrix (rcond=3.66446e-20): result may not be accurate.\n",
      "  x = scipy.linalg.solve(h, h @ ([1] * 50))\n"
     ]
    },
    {
     "data": {
      "text/plain": [
       "array([  1.00000007,   0.99999158,   1.00016222,   1.0011918 ,\n",
       "         0.94023228,   1.67868573,  -2.87605487,  13.57667066,\n",
       "       -21.99608675,  21.1753999 ,  -1.86476998,   1.57826089,\n",
       "       -14.76788412,   7.73021038,  14.18600245,  -1.0017191 ,\n",
       "       -10.69517354,   8.14104972,   5.30813439,   2.11098027,\n",
       "       -43.2867539 ,  24.86775979,  52.62730875, -12.4174761 ,\n",
       "       -39.58786349, -10.76829926,  49.22531073, -16.91015691,\n",
       "       -20.70245705,  27.2848732 , -14.92041968,  28.31102569,\n",
       "       -35.54797011,  25.68298935, -13.49669524,  17.23147797,\n",
       "        -0.80052785,  -6.66775122,  -4.00359584,  20.38809736,\n",
       "       -23.42301574,   0.71219121,  26.89047453, -45.89097618,\n",
       "        52.06348848,  -1.64428045, -32.81983181,  32.06026043,\n",
       "       -20.13780275,   8.45533223])"
      ]
     },
     "execution_count": 5,
     "metadata": {},
     "output_type": "execute_result"
    }
   ],
   "source": [
    "# Solve h x = h @ [1, 1, 1, 1, 1] for x -> x should be [1, 1, 1, 1, 1]\n",
    "x = scipy.linalg.solve(h, h @ ([1] * 50))\n",
    "x"
   ]
  },
  {
   "cell_type": "code",
   "execution_count": 6,
   "id": "9fd9e7ed-d75f-4901-96cb-654669535f87",
   "metadata": {},
   "outputs": [
    {
     "data": {
      "text/plain": [
       "1.0993264246156683e+19"
      ]
     },
     "execution_count": 6,
     "metadata": {},
     "output_type": "execute_result"
    }
   ],
   "source": [
    "# Compute the coondition number\n",
    "numpy.linalg.cond(h)"
   ]
  },
  {
   "cell_type": "code",
   "execution_count": 7,
   "id": "06c0bc34-8246-4ed4-8e57-1ff2fc3f3d64",
   "metadata": {},
   "outputs": [
    {
     "data": {
      "text/plain": [
       "array([[1.        , 0.5       , 0.33333333, ..., 0.00200803, 0.00200401,\n",
       "        0.002     ],\n",
       "       [0.5       , 0.33333333, 0.25      , ..., 0.00200401, 0.002     ,\n",
       "        0.00199601],\n",
       "       [0.33333333, 0.25      , 0.2       , ..., 0.002     , 0.00199601,\n",
       "        0.00199203],\n",
       "       ...,\n",
       "       [0.00200803, 0.00200401, 0.002     , ..., 0.00100503, 0.00100402,\n",
       "        0.00100301],\n",
       "       [0.00200401, 0.002     , 0.00199601, ..., 0.00100402, 0.00100301,\n",
       "        0.001002  ],\n",
       "       [0.002     , 0.00199601, 0.00199203, ..., 0.00100301, 0.001002  ,\n",
       "        0.001001  ]])"
      ]
     },
     "execution_count": 7,
     "metadata": {},
     "output_type": "execute_result"
    }
   ],
   "source": [
    "# Creat a even larger Hilbert matrix\n",
    "h = scipy.linalg.hilbert(500)\n",
    "h"
   ]
  },
  {
   "cell_type": "code",
   "execution_count": 8,
   "id": "fbfb917f-a715-4b7f-82e4-43c210309589",
   "metadata": {},
   "outputs": [
    {
     "name": "stderr",
     "output_type": "stream",
     "text": [
      "C:\\Users\\young\\AppData\\Local\\Temp\\ipykernel_17948\\4270393687.py:2: LinAlgWarning: Ill-conditioned matrix (rcond=7.68731e-22): result may not be accurate.\n",
      "  x = scipy.linalg.solve(h, h @ ([1] * 500))\n"
     ]
    },
    {
     "data": {
      "text/plain": [
       "[-346.8311692965331, 325.42502787608424]"
      ]
     },
     "execution_count": 8,
     "metadata": {},
     "output_type": "execute_result"
    }
   ],
   "source": [
    "# Solve h x = h @ [1, 1, 1, 1, 1] for x -> x should be [1, 1, 1, 1, 1]\n",
    "x = scipy.linalg.solve(h, h @ ([1] * 500))\n",
    "[min(x), max(x)]"
   ]
  },
  {
   "cell_type": "code",
   "execution_count": 9,
   "id": "8077dc85-7b65-4c3b-85b9-0e7e303603db",
   "metadata": {},
   "outputs": [
    {
     "data": {
      "text/plain": [
       "1.8115962657688702e+20"
      ]
     },
     "execution_count": 9,
     "metadata": {},
     "output_type": "execute_result"
    }
   ],
   "source": [
    "# Compute the coondition number\n",
    "numpy.linalg.cond(h)"
   ]
  }
 ],
 "metadata": {
  "kernelspec": {
   "display_name": "Python 3 (ipykernel)",
   "language": "python",
   "name": "python3"
  },
  "language_info": {
   "codemirror_mode": {
    "name": "ipython",
    "version": 3
   },
   "file_extension": ".py",
   "mimetype": "text/x-python",
   "name": "python",
   "nbconvert_exporter": "python",
   "pygments_lexer": "ipython3",
   "version": "3.11.4"
  }
 },
 "nbformat": 4,
 "nbformat_minor": 5
}
