{
 "cells": [
  {
   "cell_type": "code",
   "execution_count": 1,
   "id": "4f2c9d4a-9d3b-4268-9212-011681209323",
   "metadata": {},
   "outputs": [],
   "source": [
    "# Code attribution: Yiyin Shen, Tyler Caraza-Harter\n",
    "# Imports\n",
    "from flask import Flask, request, Response\n",
    "from selenium import webdriver\n",
    "from selenium.webdriver.chrome.service import Service\n",
    "import matplotlib.pyplot as plt\n",
    "from multiprocessing import Process\n",
    "import time\n",
    "import pandas\n",
    "import math"
   ]
  },
  {
   "cell_type": "code",
   "execution_count": null,
   "id": "57c51a62-ca1b-49f6-b04d-2187f797f814",
   "metadata": {},
   "outputs": [
    {
     "name": "stdout",
     "output_type": "stream",
     "text": [
      " * Serving Flask app 'app'\n",
      " * Debug mode: off\n"
     ]
    },
    {
     "name": "stderr",
     "output_type": "stream",
     "text": [
      "WARNING: This is a development server. Do not use it in a production deployment. Use a production WSGI server instead.\n",
      " * Running on all addresses (0.0.0.0)\n",
      " * Running on http://127.0.0.1:5000\n",
      " * Running on http://192.168.1.87:5000\n",
      "Press CTRL+C to quit\n"
     ]
    }
   ],
   "source": [
    "# Build a webpage that does UCB testing\n",
    "app = Flask(\"app\")\n",
    "\n",
    "ab = [1, 1]\n",
    "total = [2, 2]\n",
    "ucb = [10, 10]\n",
    "cookie = \"1\"\n",
    "\n",
    "@app.route(\"/\")\n",
    "def home():\n",
    "    global ab, total, ucb, cookie\n",
    "    if ucb[0] >= ucb[1]:\n",
    "        total[0] = total[0] + 1\n",
    "        resp = Response('Cat! <a href=\"visit?from=cat\">Visit</a>')\n",
    "    else:\n",
    "        total[1] = total[1] + 1\n",
    "        resp = Response('Dog! <a href=\"visit?from=dog\">Visit</a>')\n",
    "    resp.set_cookie(\"visit\", \"0\")\n",
    "    return resp\n",
    "\n",
    "@app.route(\"/visit\")\n",
    "def test():\n",
    "    global ab, total, ucb, cookie\n",
    "    cookie = request.cookies.get(\"visit\", \"0\")\n",
    "    if cookie == \"0\" and request.args:\n",
    "        if request.args[\"from\"] == \"cat\":\n",
    "            ab[0] = ab[0] + 1\n",
    "            ucb[0] = ab[0] / total[0] + math.sqrt((2 * math.log(total[0] + total[1]) / total[0]))\n",
    "        else:\n",
    "            ab[1] = ab[1] + 1\n",
    "            ucb[0] = ab[1] / total[1] + math.sqrt((2 * math.log(total[0] + total[1]) / total[1]))\n",
    "    df = pandas.DataFrame([[ab[0] / total[0], ucb[0]], [ab[1] / total[1], ucb[1]]], columns = [\"CRT\", \"UCB\"], index = [\"cat\", \"dog\"])\n",
    "    resp = Response(df.to_html())\n",
    "    resp.set_cookie(\"visit\", \"1\")\n",
    "    return resp\n",
    "\n",
    "app.run(host = \"0.0.0.0\", debug = False, threaded = False)"
   ]
  }
 ],
 "metadata": {
  "kernelspec": {
   "display_name": "Python 3 (ipykernel)",
   "language": "python",
   "name": "python3"
  },
  "language_info": {
   "codemirror_mode": {
    "name": "ipython",
    "version": 3
   },
   "file_extension": ".py",
   "mimetype": "text/x-python",
   "name": "python",
   "nbconvert_exporter": "python",
   "pygments_lexer": "ipython3",
   "version": "3.11.4"
  }
 },
 "nbformat": 4,
 "nbformat_minor": 5
}
