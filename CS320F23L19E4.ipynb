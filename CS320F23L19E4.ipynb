{
 "cells": [
  {
   "cell_type": "code",
   "execution_count": 1,
   "id": "4f2c9d4a-9d3b-4268-9212-011681209323",
   "metadata": {},
   "outputs": [],
   "source": [
    "# Code attribution: Yiyin Shen, Tyler Caraza-Harter\n",
    "# Imports\n",
    "from selenium import webdriver\n",
    "from selenium.webdriver.chrome.service import Service\n",
    "import time\n",
    "import itertools"
   ]
  },
  {
   "cell_type": "code",
   "execution_count": 2,
   "id": "57c51a62-ca1b-49f6-b04d-2187f797f814",
   "metadata": {},
   "outputs": [],
   "source": [
    "# Get the button and input and output fields\n",
    "service = Service(executable_path=\"chromedriver-win64/chromedriver.exe\")\n",
    "driver = webdriver.Chrome(service=service)\n",
    "url = \"https://pages.cs.wisc.edu/~yw/CS320F23T19.html\"\n",
    "driver.get(url)\n",
    "input = driver.find_element(\"id\", \"answer_3\")\n",
    "button = driver.find_element(\"id\", \"button_2\")\n",
    "output = driver.find_element(\"id\", \"out_3\")"
   ]
  },
  {
   "cell_type": "code",
   "execution_count": 3,
   "id": "a6f8667a-0311-4614-8006-3aae28a0ef25",
   "metadata": {
    "scrolled": true
   },
   "outputs": [
    {
     "name": "stdout",
     "output_type": "stream",
     "text": [
      "8493: Correct!\n"
     ]
    }
   ],
   "source": [
    "# Try all passwords\n",
    "passwords = list(itertools.permutations(range(0, 10), 4)) # This takes too long\n",
    "start = \"\"\n",
    "passwords = list(itertools.permutations(range(0, 10), 2)) # Guess the last two digits\n",
    "start = \"84\"\n",
    "for password in passwords:\n",
    "    keys =  start + \"\".join(list(map(str, password)))\n",
    "    input.send_keys(keys)\n",
    "    button.click()\n",
    "    time.sleep(0.01)\n",
    "    if not output.text.startswith(\"I\"):\n",
    "        print(keys + \": \" + output.text)\n",
    "    input.clear()"
   ]
  },
  {
   "cell_type": "code",
   "execution_count": 4,
   "id": "a6974348-e3b6-456b-a159-d527f52030ba",
   "metadata": {},
   "outputs": [],
   "source": [
    "# Remember to quit when it's done\n",
    "driver.quit()"
   ]
  },
  {
   "cell_type": "code",
   "execution_count": null,
   "id": "420d05c8-de09-40cf-bc5d-58ce04b5acf8",
   "metadata": {},
   "outputs": [],
   "source": []
  }
 ],
 "metadata": {
  "kernelspec": {
   "display_name": "Python 3 (ipykernel)",
   "language": "python",
   "name": "python3"
  },
  "language_info": {
   "codemirror_mode": {
    "name": "ipython",
    "version": 3
   },
   "file_extension": ".py",
   "mimetype": "text/x-python",
   "name": "python",
   "nbconvert_exporter": "python",
   "pygments_lexer": "ipython3",
   "version": "3.11.4"
  }
 },
 "nbformat": 4,
 "nbformat_minor": 5
}
