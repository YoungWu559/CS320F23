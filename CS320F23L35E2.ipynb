{
 "cells": [
  {
   "cell_type": "code",
   "execution_count": 1,
   "id": "4f2c9d4a-9d3b-4268-9212-011681209323",
   "metadata": {},
   "outputs": [],
   "source": [
    "# Code attribution: Yiyin Shen, Tyler Caraza-Harter\n",
    "# Imports\n",
    "import sklearn\n",
    "import sklearn.preprocessing\n",
    "import numpy"
   ]
  },
  {
   "cell_type": "code",
   "execution_count": 2,
   "id": "13e35828-7303-4810-af80-6751d2cc7db5",
   "metadata": {},
   "outputs": [
    {
     "data": {
      "text/plain": [
       "(array([[0, 1],\n",
       "        [2, 3],\n",
       "        [4, 5]]),\n",
       " array([[0, 1, 2],\n",
       "        [3, 4, 5],\n",
       "        [6, 7, 8]]))"
      ]
     },
     "execution_count": 2,
     "metadata": {},
     "output_type": "execute_result"
    }
   ],
   "source": [
    "# Polynomial feature examples (x2 has two columns, x3 has three columns)\n",
    "x2 = numpy.arange(6).reshape(3, 2)\n",
    "x3 = numpy.arange(9).reshape(3, 3)\n",
    "x2, x3"
   ]
  },
  {
   "cell_type": "code",
   "execution_count": 3,
   "id": "ecf7a003-a4f2-48df-b430-ab5e10d1e687",
   "metadata": {},
   "outputs": [
    {
     "data": {
      "text/plain": [
       "array([[ 1.,  0.,  1.,  0.,  0.,  1.],\n",
       "       [ 1.,  2.,  3.,  4.,  6.,  9.],\n",
       "       [ 1.,  4.,  5., 16., 20., 25.]])"
      ]
     },
     "execution_count": 3,
     "metadata": {},
     "output_type": "execute_result"
    }
   ],
   "source": [
    "# Degree 2 with intercept (1), original columns (2), square columns (2), and interaction column (1)\n",
    "sklearn.preprocessing.PolynomialFeatures(2).fit_transform(x2)"
   ]
  },
  {
   "cell_type": "code",
   "execution_count": 4,
   "id": "530bc207-2b8c-4b8a-a0dc-1bf4ef124371",
   "metadata": {},
   "outputs": [
    {
     "data": {
      "text/plain": [
       "array([[  1.,   0.,   1.,   0.,   0.,   1.,   0.,   0.,   0.,   1.],\n",
       "       [  1.,   2.,   3.,   4.,   6.,   9.,   8.,  12.,  18.,  27.],\n",
       "       [  1.,   4.,   5.,  16.,  20.,  25.,  64.,  80., 100., 125.]])"
      ]
     },
     "execution_count": 4,
     "metadata": {},
     "output_type": "execute_result"
    }
   ],
   "source": [
    "# Degree 3 with intercept (1), original columns (2), square columns (2), cube columns (2)\n",
    "# two-term interaction column (1), three-term interaction columns (2)\n",
    "sklearn.preprocessing.PolynomialFeatures(3).fit_transform(x2)"
   ]
  },
  {
   "cell_type": "code",
   "execution_count": 5,
   "id": "842023d6-f863-4ce5-ad8d-25061c9311e9",
   "metadata": {},
   "outputs": [
    {
     "data": {
      "text/plain": [
       "array([[ 1.,  0.,  1.,  2.,  0.,  0.,  0.,  1.,  2.,  4.],\n",
       "       [ 1.,  3.,  4.,  5.,  9., 12., 15., 16., 20., 25.],\n",
       "       [ 1.,  6.,  7.,  8., 36., 42., 48., 49., 56., 64.]])"
      ]
     },
     "execution_count": 5,
     "metadata": {},
     "output_type": "execute_result"
    }
   ],
   "source": [
    "# Degree 2 with intercept (1), original columns (3), square columns (3), and interaction column (3)\n",
    "sklearn.preprocessing.PolynomialFeatures(2).fit_transform(x3)"
   ]
  },
  {
   "cell_type": "code",
   "execution_count": 6,
   "id": "89187ff7-be18-4a4e-a133-f3da20fea055",
   "metadata": {},
   "outputs": [
    {
     "data": {
      "text/plain": [
       "array([[  1.,   0.,   1.,   2.,   0.,   0.,   0.,   1.,   2.,   4.,   0.,\n",
       "          0.,   0.,   0.,   0.,   0.,   1.,   2.,   4.,   8.],\n",
       "       [  1.,   3.,   4.,   5.,   9.,  12.,  15.,  16.,  20.,  25.,  27.,\n",
       "         36.,  45.,  48.,  60.,  75.,  64.,  80., 100., 125.],\n",
       "       [  1.,   6.,   7.,   8.,  36.,  42.,  48.,  49.,  56.,  64., 216.,\n",
       "        252., 288., 294., 336., 384., 343., 392., 448., 512.]])"
      ]
     },
     "execution_count": 6,
     "metadata": {},
     "output_type": "execute_result"
    }
   ],
   "source": [
    "# Degree 3 with too many terms\n",
    "sklearn.preprocessing.PolynomialFeatures(3).fit_transform(x3)"
   ]
  },
  {
   "cell_type": "code",
   "execution_count": 7,
   "id": "efb46bb3-3aa8-4fd0-9bdf-bd0f2029b198",
   "metadata": {},
   "outputs": [
    {
     "data": {
      "text/plain": [
       "array([[  0.,   1.,   2.,   0.,   0.,   2.,   0.],\n",
       "       [  3.,   4.,   5.,  12.,  15.,  20.,  60.],\n",
       "       [  6.,   7.,   8.,  42.,  48.,  56., 336.]])"
      ]
     },
     "execution_count": 7,
     "metadata": {},
     "output_type": "execute_result"
    }
   ],
   "source": [
    "# Degree 3 with no bias (intercept), no repeated (i.e. interaction only)\n",
    "# original columns (3), two-term interaction (3), three-term interaction (1)\n",
    "sklearn.preprocessing.PolynomialFeatures(3, include_bias = False, interaction_only = True).fit_transform(x3)"
   ]
  }
 ],
 "metadata": {
  "kernelspec": {
   "display_name": "Python 3 (ipykernel)",
   "language": "python",
   "name": "python3"
  },
  "language_info": {
   "codemirror_mode": {
    "name": "ipython",
    "version": 3
   },
   "file_extension": ".py",
   "mimetype": "text/x-python",
   "name": "python",
   "nbconvert_exporter": "python",
   "pygments_lexer": "ipython3",
   "version": "3.11.4"
  }
 },
 "nbformat": 4,
 "nbformat_minor": 5
}
