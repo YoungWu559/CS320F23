{
 "cells": [
  {
   "cell_type": "code",
   "execution_count": 1,
   "id": "4f2c9d4a-9d3b-4268-9212-011681209323",
   "metadata": {},
   "outputs": [],
   "source": [
    "# Code attribution: Yiyin Shen, Tyler Caraza-Harter\n",
    "# Imports\n",
    "from flask import Flask, request, redirect, Response\n",
    "import matplotlib.pyplot as plt\n",
    "import time\n",
    "import pandas"
   ]
  },
  {
   "cell_type": "code",
   "execution_count": null,
   "id": "57c51a62-ca1b-49f6-b04d-2187f797f814",
   "metadata": {},
   "outputs": [
    {
     "name": "stdout",
     "output_type": "stream",
     "text": [
      " * Serving Flask app 'app'\n",
      " * Debug mode: off\n"
     ]
    },
    {
     "name": "stderr",
     "output_type": "stream",
     "text": [
      "WARNING: This is a development server. Do not use it in a production deployment. Use a production WSGI server instead.\n",
      " * Running on all addresses (0.0.0.0)\n",
      " * Running on http://127.0.0.1:5000\n",
      " * Running on http://10.140.211.109:5000\n",
      "Press CTRL+C to quit\n",
      "10.140.211.109 - - [20/Oct/2023 11:38:54] \"GET / HTTP/1.1\" 200 -\n",
      "10.140.211.109 - - [20/Oct/2023 11:39:04] \"GET / HTTP/1.1\" 200 -\n",
      "10.140.211.109 - - [20/Oct/2023 11:39:13] \"GET / HTTP/1.1\" 200 -\n",
      "10.140.211.109 - - [20/Oct/2023 11:39:14] \"GET / HTTP/1.1\" 429 -\n",
      "10.140.211.109 - - [20/Oct/2023 11:39:19] \"GET / HTTP/1.1\" 200 -\n",
      "10.140.211.109 - - [20/Oct/2023 11:39:20] \"GET / HTTP/1.1\" 429 -\n",
      "10.140.211.109 - - [20/Oct/2023 11:39:21] \"GET / HTTP/1.1\" 429 -\n",
      "10.140.211.109 - - [20/Oct/2023 11:39:22] \"GET / HTTP/1.1\" 429 -\n",
      "10.140.211.109 - - [20/Oct/2023 11:39:22] \"GET / HTTP/1.1\" 429 -\n",
      "10.139.194.116 - - [20/Oct/2023 11:39:27] \"GET / HTTP/1.1\" 200 -\n",
      "10.139.194.116 - - [20/Oct/2023 11:39:28] \"GET /favicon.ico HTTP/1.1\" 404 -\n",
      "10.139.194.116 - - [20/Oct/2023 11:39:33] \"GET / HTTP/1.1\" 200 -\n",
      "10.140.211.109 - - [20/Oct/2023 11:39:33] \"GET / HTTP/1.1\" 200 -\n",
      "10.139.194.116 - - [20/Oct/2023 11:39:34] \"GET / HTTP/1.1\" 429 -\n",
      "10.139.194.116 - - [20/Oct/2023 11:39:49] \"GET / HTTP/1.1\" 200 -\n",
      "10.139.194.116 - - [20/Oct/2023 11:46:44] \"GET /visit HTTP/1.1\" 404 -\n",
      "10.139.194.116 - - [20/Oct/2023 11:46:48] \"GET /visitor HTTP/1.1\" 404 -\n",
      "10.139.194.116 - - [20/Oct/2023 11:46:52] \"GET / HTTP/1.1\" 200 -\n"
     ]
    }
   ],
   "source": [
    "# Build a webpage that keeps track of visitors\n",
    "app = Flask(\"app\")\n",
    "\n",
    "visitors = []\n",
    "times = {}\n",
    "\n",
    "@app.route(\"/\")\n",
    "def home():\n",
    "    global visitors, times\n",
    "    rate = 3\n",
    "    ip = request.remote_addr\n",
    "    ua = request.user_agent.string\n",
    "    visitors.append([ip, ua])\n",
    "    now = time.time()\n",
    "    if ip in times:\n",
    "        td = now - times[ip]\n",
    "        if td < rate:\n",
    "            return Response(\"Please come back in \" + str(rate - td) + \" seconds.\", status = 429, headers = {\"Retry-After\": str(rate)})\n",
    "        else:\n",
    "            times[ip] = now\n",
    "            return \"Welcome back, [\" + ip + \"] \" + ua\n",
    "    else:\n",
    "        times[ip] = now\n",
    "        return \"Hello, [\" + ip + \"] \" + ua\n",
    "\n",
    "@app.route(\"/visitors\")\n",
    "def display():\n",
    "    df = pandas.DataFrame(visitors, columns = [\"IP\", \"User Agent\"])\n",
    "    return df.to_html()\n",
    "\n",
    "app.run(host = \"0.0.0.0\", debug = False, threaded = False)"
   ]
  }
 ],
 "metadata": {
  "kernelspec": {
   "display_name": "Python 3 (ipykernel)",
   "language": "python",
   "name": "python3"
  },
  "language_info": {
   "codemirror_mode": {
    "name": "ipython",
    "version": 3
   },
   "file_extension": ".py",
   "mimetype": "text/x-python",
   "name": "python",
   "nbconvert_exporter": "python",
   "pygments_lexer": "ipython3",
   "version": "3.11.4"
  }
 },
 "nbformat": 4,
 "nbformat_minor": 5
}
